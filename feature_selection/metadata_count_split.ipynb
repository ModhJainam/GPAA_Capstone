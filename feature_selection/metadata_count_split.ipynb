{
 "cells": [
  {
   "cell_type": "code",
   "execution_count": 1,
   "metadata": {},
   "outputs": [],
   "source": [
    "import pandas as pd\n",
    "\n",
    "with open('/project/gpaa/machine_learning/jainam_capstone/feature_selection/train_test_splits_LAD_b16_new.csv', 'r') as f:\n",
    "  train_test_splits = pd.read_csv(f)\n",
    "\n",
    "with open('/project/gpaa/machine_learning/jainam_capstone/preprocessing/LAD_labeled_batches0-16.csv', 'r') as f:\n",
    "  df_labeled = pd.read_csv(f)\n",
    "\n",
    "target = df_labeled['binary_pathology']"
   ]
  },
  {
   "cell_type": "code",
   "execution_count": 2,
   "metadata": {},
   "outputs": [
    {
     "name": "stdout",
     "output_type": "stream",
     "text": [
      "0    63\n",
      "1    26\n",
      "Name: binary_pathology, dtype: int64\n",
      "white       63\n",
      "black       22\n",
      "hispanic     3\n",
      "male        54\n",
      "female      35\n",
      "dtype: int64\n",
      "                  white  black  hispanic  asian  male  female\n",
      "binary_pathology                                             \n",
      "0                    42     18         2      1    40      23\n",
      "1                    21      4         1      0    14      12\n"
     ]
    }
   ],
   "source": [
    "print(target.value_counts())\n",
    "print(df_labeled[['white', 'black', 'hispanic', 'male', 'female']].sum())\n",
    "print(df_labeled.groupby(['binary_pathology'])[['white', 'black', 'hispanic', 'asian', 'male', 'female']].sum())"
   ]
  },
  {
   "cell_type": "code",
   "execution_count": 3,
   "metadata": {},
   "outputs": [
    {
     "name": "stdout",
     "output_type": "stream",
     "text": [
      "SPLIT 1\n",
      "0    13\n",
      "1     5\n",
      "Name: binary_pathology, dtype: int64\n",
      "white       14\n",
      "black        4\n",
      "hispanic     0\n",
      "asian        0\n",
      "male        10\n",
      "female       8\n",
      "dtype: int64\n",
      "                  white  black  hispanic  asian  male  female\n",
      "binary_pathology                                             \n",
      "0                     9      4         0      0     8       5\n",
      "1                     5      0         0      0     2       3\n",
      "SPLIT 2\n",
      "0    13\n",
      "1     5\n",
      "Name: binary_pathology, dtype: int64\n",
      "white       14\n",
      "black        3\n",
      "hispanic     1\n",
      "asian        0\n",
      "male        11\n",
      "female       7\n",
      "dtype: int64\n",
      "                  white  black  hispanic  asian  male  female\n",
      "binary_pathology                                             \n",
      "0                    11      2         0      0     7       6\n",
      "1                     3      1         1      0     4       1\n",
      "SPLIT 3\n",
      "0    13\n",
      "1     5\n",
      "Name: binary_pathology, dtype: int64\n",
      "white       12\n",
      "black        5\n",
      "hispanic     1\n",
      "asian        0\n",
      "male        13\n",
      "female       5\n",
      "dtype: int64\n",
      "                  white  black  hispanic  asian  male  female\n",
      "binary_pathology                                             \n",
      "0                     8      4         1      0    10       3\n",
      "1                     4      1         0      0     3       2\n",
      "SPLIT 4\n",
      "0    12\n",
      "1     6\n",
      "Name: binary_pathology, dtype: int64\n",
      "white       14\n",
      "black        4\n",
      "hispanic     0\n",
      "asian        0\n",
      "male         9\n",
      "female       9\n",
      "dtype: int64\n",
      "                  white  black  hispanic  asian  male  female\n",
      "binary_pathology                                             \n",
      "0                     8      4         0      0     7       5\n",
      "1                     6      0         0      0     2       4\n",
      "SPLIT 5\n",
      "0    12\n",
      "1     5\n",
      "Name: binary_pathology, dtype: int64\n",
      "white        9\n",
      "black        6\n",
      "hispanic     1\n",
      "asian        1\n",
      "male        11\n",
      "female       6\n",
      "dtype: int64\n",
      "                  white  black  hispanic  asian  male  female\n",
      "binary_pathology                                             \n",
      "0                     6      4         1      1     8       4\n",
      "1                     3      2         0      0     3       2\n"
     ]
    }
   ],
   "source": [
    "for split in range(1,6):\n",
    "    train_col = [col for col in train_test_splits.columns if str(split)+'_train' in col]\n",
    "    train_indices = list(train_test_splits[train_col[0]].dropna())\n",
    "    test_col = [col for col in train_test_splits.columns if str(split)+'_test' in col]\n",
    "    test_indices = list(train_test_splits[test_col[0]].dropna())\n",
    "\n",
    "    print(\"SPLIT \" + str(split))\n",
    "    \n",
    "    y_train, y_test = target[train_indices], target[test_indices]\n",
    "    X_train, X_test = df_labeled.iloc[train_indices], df_labeled.iloc[test_indices]\n",
    "    \n",
    "    print(y_test.value_counts())\n",
    "    print(X_test[['white', 'black', 'hispanic', 'asian', 'male', 'female']].sum())\n",
    "    print(X_test.groupby(['binary_pathology'])[['white', 'black', 'hispanic', 'asian', 'male', 'female']].sum())"
   ]
  },
  {
   "cell_type": "markdown",
   "metadata": {},
   "source": []
  }
 ],
 "metadata": {
  "kernelspec": {
   "display_name": "Jainam_GPAA",
   "language": "python",
   "name": "gpaa"
  },
  "language_info": {
   "codemirror_mode": {
    "name": "ipython",
    "version": 3
   },
   "file_extension": ".py",
   "mimetype": "text/x-python",
   "name": "python",
   "nbconvert_exporter": "python",
   "pygments_lexer": "ipython3",
   "version": "3.8.2"
  }
 },
 "nbformat": 4,
 "nbformat_minor": 4
}
