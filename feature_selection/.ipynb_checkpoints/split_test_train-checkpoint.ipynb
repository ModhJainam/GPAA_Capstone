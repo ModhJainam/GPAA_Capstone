{
 "cells": [
  {
   "cell_type": "code",
   "execution_count": 39,
   "metadata": {},
   "outputs": [],
   "source": [
    "import pandas as pd\n",
    "import numpy as np\n",
    "\n",
    "\n",
    "with open('/gpfs/gpfs0/project/gpaa/machine_learning/may_2021_repo/feature_selection/train_test_splits_AA_b13.csv', 'r') as f:\n",
    "  train_test_splits = pd.read_csv(f)\n",
    "\n",
    "with open('/gpfs/gpfs0/project/gpaa/machine_learning/may_2021_repo/preprocessing/AA_labeled_b13_fixed.csv', 'r') as f:\n",
    "  df_labled = pd.read_csv(f)"
   ]
  },
  {
   "cell_type": "code",
   "execution_count": 40,
   "metadata": {},
   "outputs": [],
   "source": [
    "df_binary_labeled = df_labled.copy();\n",
    "X = df_binary_labeled.drop('binary_pathology', axis=1)\n",
    "target = df_binary_labeled['binary_pathology']"
   ]
  },
  {
   "cell_type": "code",
   "execution_count": 13,
   "metadata": {},
   "outputs": [
    {
     "name": "stdout",
     "output_type": "stream",
     "text": [
      "SPLIT 1\n"
     ]
    }
   ],
   "source": [
    "for split in range(1,2):\n",
    "    train_col = [col for col in train_test_splits.columns if str(split)+'_train' in col]\n",
    "    train_indices = list(train_test_splits[train_col[0]].dropna())\n",
    "    test_col = [col for col in train_test_splits.columns if str(split)+'_test' in col]\n",
    "    test_indices = list(train_test_splits[test_col[0]].dropna())\n",
    "\n",
    "    print(\"SPLIT \" + str(split))\n",
    "    \n",
    "    y_train, y_test = target[train_indices], target[test_indices]\n",
    "    X_train, X_test = X.iloc[train_indices], X.iloc[test_indices]"
   ]
  },
  {
   "cell_type": "code",
   "execution_count": 48,
   "metadata": {},
   "outputs": [
    {
     "name": "stdout",
     "output_type": "stream",
     "text": [
      "TRAIN: [  0   1   3   4   6   7   8   9  10  11  14  17  19  20  21  22  23  24\n",
      "  26  27  28  29  30  31  32  34  36  37  38  39  42  43  45  46  47  48\n",
      "  49  50  52  53  54  57  58  59  60  62  63  65  66  67  68  70  71  72\n",
      "  73  74  75  76  77  80  81  84  85  86  87  89  90  91  92  93  94  95\n",
      "  96  98  99 100 101 103 104 105 106 107 108 109 110 111 112 114 115 116\n",
      " 117 118 119 120 121 123 124 125 126 127 128 129 131 132 133 134 136 137\n",
      " 138 139 140 141 142 143 144 147 149 150 151 153 154 156 157 158 159 160\n",
      " 161 163 164 165 166 167 168 169 170 171 172 173 176 177 178 180 181 182\n",
      " 183 184 185 186 188 189 190 191 193 194 195 196 197 198 200 201 203 204\n",
      " 205 206 207 208 209 210 213 214 215 216 217 218 220 221 222 223 224 225\n",
      " 226 228 229 230 231 232 233 234 235 237 238 239 241] TEST: [  2   5  12  13  15  16  18  25  33  35  40  41  44  51  55  56  61  64\n",
      "  69  78  79  82  83  88  97 102 113 122 130 135 145 146 148 152 155 162\n",
      " 174 175 179 187 192 199 202 211 212 219 227 236 240]\n",
      "TRAIN: [  1   2   5   7   9  11  12  13  14  15  16  17  18  19  20  21  22  24\n",
      "  25  26  27  28  30  31  32  33  34  35  36  37  38  40  41  42  43  44\n",
      "  45  46  47  48  50  51  52  53  54  55  56  58  59  60  61  62  63  64\n",
      "  65  66  68  69  71  72  75  76  77  78  79  80  81  82  83  85  86  87\n",
      "  88  89  90  92  93  95  97  99 100 101 102 104 105 108 110 111 112 113\n",
      " 114 115 116 117 118 119 120 121 122 123 124 125 126 127 128 129 130 131\n",
      " 133 134 135 137 138 139 140 141 142 144 145 146 148 150 151 152 153 154\n",
      " 155 156 158 159 160 162 163 164 166 167 168 169 170 171 172 173 174 175\n",
      " 177 178 179 181 182 183 185 186 187 188 189 190 192 193 194 198 199 200\n",
      " 201 202 204 205 206 207 208 210 211 212 213 215 216 217 219 221 223 224\n",
      " 225 226 227 228 230 231 232 233 236 237 239 240 241] TEST: [  0   3   4   6   8  10  23  29  39  49  57  67  70  73  74  84  91  94\n",
      "  96  98 103 106 107 109 132 136 143 147 149 157 161 165 176 180 184 191\n",
      " 195 196 197 203 209 214 218 220 222 229 234 235 238]\n",
      "TRAIN: [  0   2   3   4   5   6   8   9  10  11  12  13  14  15  16  17  18  19\n",
      "  20  23  24  25  28  29  31  32  33  34  35  36  37  39  40  41  42  43\n",
      "  44  47  49  50  51  53  54  55  56  57  59  60  61  62  63  64  66  67\n",
      "  68  69  70  71  72  73  74  75  78  79  80  82  83  84  85  87  88  90\n",
      "  91  92  93  94  96  97  98  99 100 102 103 104 105 106 107 109 110 111\n",
      " 112 113 115 116 117 118 120 122 123 125 126 130 132 133 134 135 136 137\n",
      " 138 139 141 143 144 145 146 147 148 149 150 151 152 153 155 156 157 158\n",
      " 160 161 162 165 166 167 168 169 172 173 174 175 176 177 179 180 181 184\n",
      " 185 187 188 189 190 191 192 193 194 195 196 197 198 199 201 202 203 204\n",
      " 205 206 207 209 210 211 212 213 214 215 216 218 219 220 221 222 223 224\n",
      " 225 227 228 229 231 232 234 235 236 237 238 239 240 241] TEST: [  1   7  21  22  26  27  30  38  45  46  48  52  58  65  76  77  81  86\n",
      "  89  95 101 108 114 119 121 124 127 128 129 131 140 142 154 159 163 164\n",
      " 170 171 178 182 183 186 200 208 217 226 230 233]\n",
      "TRAIN: [  0   1   2   3   4   5   6   7   8   9  10  12  13  14  15  16  18  21\n",
      "  22  23  24  25  26  27  28  29  30  32  33  35  38  39  40  41  44  45\n",
      "  46  47  48  49  51  52  53  55  56  57  58  59  61  62  64  65  67  69\n",
      "  70  72  73  74  76  77  78  79  80  81  82  83  84  85  86  87  88  89\n",
      "  90  91  93  94  95  96  97  98  99 101 102 103 104 105 106 107 108 109\n",
      " 113 114 116 119 120 121 122 124 125 126 127 128 129 130 131 132 133 135\n",
      " 136 137 138 140 141 142 143 144 145 146 147 148 149 152 153 154 155 157\n",
      " 158 159 160 161 162 163 164 165 166 169 170 171 172 173 174 175 176 178\n",
      " 179 180 182 183 184 185 186 187 188 191 192 195 196 197 198 199 200 201\n",
      " 202 203 204 207 208 209 210 211 212 214 216 217 218 219 220 221 222 223\n",
      " 225 226 227 228 229 230 232 233 234 235 236 237 238 240] TEST: [ 11  17  19  20  31  34  36  37  42  43  50  54  60  63  66  68  71  75\n",
      "  92 100 110 111 112 115 117 118 123 134 139 150 151 156 167 168 177 181\n",
      " 189 190 193 194 205 206 213 215 224 231 239 241]\n",
      "TRAIN: [  0   1   2   3   4   5   6   7   8  10  11  12  13  15  16  17  18  19\n",
      "  20  21  22  23  25  26  27  29  30  31  33  34  35  36  37  38  39  40\n",
      "  41  42  43  44  45  46  48  49  50  51  52  54  55  56  57  58  60  61\n",
      "  63  64  65  66  67  68  69  70  71  73  74  75  76  77  78  79  81  82\n",
      "  83  84  86  88  89  91  92  94  95  96  97  98 100 101 102 103 106 107\n",
      " 108 109 110 111 112 113 114 115 117 118 119 121 122 123 124 127 128 129\n",
      " 130 131 132 134 135 136 139 140 142 143 145 146 147 148 149 150 151 152\n",
      " 154 155 156 157 159 161 162 163 164 165 167 168 170 171 174 175 176 177\n",
      " 178 179 180 181 182 183 184 186 187 189 190 191 192 193 194 195 196 197\n",
      " 199 200 202 203 205 206 208 209 211 212 213 214 215 217 218 219 220 222\n",
      " 224 226 227 229 230 231 233 234 235 236 238 239 240 241] TEST: [  9  14  24  28  32  47  53  59  62  72  80  85  87  90  93  99 104 105\n",
      " 116 120 125 126 133 137 138 141 144 153 158 160 166 169 172 173 185 188\n",
      " 198 201 204 207 210 216 221 223 225 228 232 237]\n"
     ]
    }
   ],
   "source": [
    "from sklearn.model_selection import StratifiedKFold\n",
    "skf = StratifiedKFold(n_splits=5, shuffle=True, random_state=42)\n",
    "for train_index, test_index in skf.split(X, target):\n",
    "    print(\"TRAIN:\", train_index, \"TEST:\", test_index)\n",
    "    X_train, X_test = X.iloc[train_index], X.iloc[test_index]\n",
    "    y_train, y_test = target[train_index], target[test_index]"
   ]
  },
  {
   "cell_type": "code",
   "execution_count": null,
   "metadata": {},
   "outputs": [],
   "source": [
    "from sklearn.model_selection import KFold\n",
    "kf = KFold(n_splits=5, shuffle=True, random_state=42)\n",
    "for train_index, test_index in kf.split(X, target):\n",
    "    print(\"TRAIN:\", train_index, \"TEST:\", test_index)\n",
    "    X_train, X_test = X.iloc[train_index], X.iloc[test_index]\n",
    "    y_train, y_test = target[train_index], target[test_index]"
   ]
  },
  {
   "cell_type": "code",
   "execution_count": 42,
   "metadata": {},
   "outputs": [
    {
     "data": {
      "text/plain": [
       "0    0.664948\n",
       "1    0.335052\n",
       "Name: binary_pathology, dtype: float64"
      ]
     },
     "execution_count": 42,
     "metadata": {},
     "output_type": "execute_result"
    }
   ],
   "source": [
    "y_train.value_counts()/len(y_train)"
   ]
  },
  {
   "cell_type": "code",
   "execution_count": 43,
   "metadata": {},
   "outputs": [
    {
     "data": {
      "text/plain": [
       "0    0.666667\n",
       "1    0.333333\n",
       "Name: binary_pathology, dtype: float64"
      ]
     },
     "execution_count": 43,
     "metadata": {},
     "output_type": "execute_result"
    }
   ],
   "source": [
    "y_test.value_counts()/len(y_test)"
   ]
  },
  {
   "cell_type": "code",
   "execution_count": 44,
   "metadata": {},
   "outputs": [
    {
     "data": {
      "text/plain": [
       "0    0.665289\n",
       "1    0.334711\n",
       "Name: binary_pathology, dtype: float64"
      ]
     },
     "execution_count": 44,
     "metadata": {},
     "output_type": "execute_result"
    }
   ],
   "source": [
    "target.value_counts()/len(target)"
   ]
  },
  {
   "cell_type": "code",
   "execution_count": 45,
   "metadata": {},
   "outputs": [
    {
     "data": {
      "text/plain": [
       "1    0.752577\n",
       "0    0.247423\n",
       "Name: white, dtype: float64"
      ]
     },
     "execution_count": 45,
     "metadata": {},
     "output_type": "execute_result"
    }
   ],
   "source": [
    "X_train['white'].value_counts()/len(X_train)"
   ]
  },
  {
   "cell_type": "code",
   "execution_count": 46,
   "metadata": {},
   "outputs": [
    {
     "data": {
      "text/plain": [
       "1    0.708333\n",
       "0    0.291667\n",
       "Name: white, dtype: float64"
      ]
     },
     "execution_count": 46,
     "metadata": {},
     "output_type": "execute_result"
    }
   ],
   "source": [
    "X_test['white'].value_counts()/len(X_test)"
   ]
  },
  {
   "cell_type": "code",
   "execution_count": 47,
   "metadata": {},
   "outputs": [
    {
     "data": {
      "text/plain": [
       "1    0.743802\n",
       "0    0.256198\n",
       "Name: white, dtype: float64"
      ]
     },
     "execution_count": 47,
     "metadata": {},
     "output_type": "execute_result"
    }
   ],
   "source": [
    "X['white'].value_counts()/len(X)"
   ]
  },
  {
   "cell_type": "code",
   "execution_count": null,
   "metadata": {},
   "outputs": [],
   "source": []
  },
  {
   "cell_type": "code",
   "execution_count": 10,
   "metadata": {},
   "outputs": [],
   "source": [
    "with open('/project/gpaa/machine_learning/jainam_capstone/preprocessing/AA_labeled_batches0-15.csv', 'r') as f:\n",
    "  df_labeled = pd.read_csv(f)"
   ]
  },
  {
   "cell_type": "code",
   "execution_count": 11,
   "metadata": {},
   "outputs": [],
   "source": [
    "from sklearn.model_selection import StratifiedShuffleSplit"
   ]
  },
  {
   "cell_type": "code",
   "execution_count": 12,
   "metadata": {},
   "outputs": [
    {
     "data": {
      "text/plain": [
       "0    0.671533\n",
       "1    0.328467\n",
       "Name: binary_pathology, dtype: float64"
      ]
     },
     "execution_count": 12,
     "metadata": {},
     "output_type": "execute_result"
    }
   ],
   "source": [
    "df_labeled['binary_pathology'].value_counts()/len(df_labeled)"
   ]
  },
  {
   "cell_type": "code",
   "execution_count": null,
   "metadata": {},
   "outputs": [],
   "source": []
  }
 ],
 "metadata": {
  "kernelspec": {
   "display_name": "Jainam_GPAA",
   "language": "python",
   "name": "gpaa"
  },
  "language_info": {
   "codemirror_mode": {
    "name": "ipython",
    "version": 3
   },
   "file_extension": ".py",
   "mimetype": "text/x-python",
   "name": "python",
   "nbconvert_exporter": "python",
   "pygments_lexer": "ipython3",
   "version": "3.8.2"
  }
 },
 "nbformat": 4,
 "nbformat_minor": 4
}
