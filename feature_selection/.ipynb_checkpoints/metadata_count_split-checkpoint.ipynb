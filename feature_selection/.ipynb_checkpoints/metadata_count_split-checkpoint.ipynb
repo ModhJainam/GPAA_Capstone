{
 "cells": [
  {
   "cell_type": "code",
   "execution_count": 32,
   "metadata": {},
   "outputs": [],
   "source": [
    "import pandas as pd\n",
    "\n",
    "with open('/project/gpaa/machine_learning/may_2021_repo/feature_selection/train_test_splits_LAD_b13.csv', 'r') as f:\n",
    "  train_test_splits = pd.read_csv(f)\n",
    "\n",
    "with open('/project/gpaa/machine_learning/may_2021_repo/preprocessing/LAD_labeled_b13_fixed.csv', 'r') as f:\n",
    "  df_labeled = pd.read_csv(f)\n",
    "\n",
    "target = df_labeled['binary_pathology']"
   ]
  },
  {
   "cell_type": "code",
   "execution_count": 33,
   "metadata": {},
   "outputs": [
    {
     "name": "stdout",
     "output_type": "stream",
     "text": [
      "0    42\n",
      "1    23\n",
      "Name: binary_pathology, dtype: int64\n",
      "white       50\n",
      "black       14\n",
      "hispanic     1\n",
      "male        35\n",
      "female      30\n",
      "dtype: int64\n",
      "                  white  black  hispanic  male  female\n",
      "binary_pathology                                      \n",
      "0                    31     11         0    24      18\n",
      "1                    19      3         1    11      12\n"
     ]
    }
   ],
   "source": [
    "print(target.value_counts())\n",
    "print(df_labeled[['white', 'black', 'hispanic', 'male', 'female']].sum())\n",
    "print(df_labeled.groupby(['binary_pathology'])[['white', 'black', 'hispanic', 'male', 'female']].sum())"
   ]
  },
  {
   "cell_type": "code",
   "execution_count": 34,
   "metadata": {},
   "outputs": [
    {
     "name": "stdout",
     "output_type": "stream",
     "text": [
      "SPLIT 1\n",
      "0    8\n",
      "1    5\n",
      "Name: binary_pathology, dtype: int64\n",
      "white       9\n",
      "black       4\n",
      "hispanic    0\n",
      "male        7\n",
      "female      6\n",
      "dtype: int64\n",
      "                  white  black  hispanic  male  female\n",
      "binary_pathology                                      \n",
      "0                     5      3         0     4       4\n",
      "1                     4      1         0     3       2\n",
      "SPLIT 2\n",
      "0    8\n",
      "1    5\n",
      "Name: binary_pathology, dtype: int64\n",
      "white       10\n",
      "black        3\n",
      "hispanic     0\n",
      "male         9\n",
      "female       4\n",
      "dtype: int64\n",
      "                  white  black  hispanic  male  female\n",
      "binary_pathology                                      \n",
      "0                     6      2         0     6       2\n",
      "1                     4      1         0     3       2\n",
      "SPLIT 3\n",
      "0    8\n",
      "1    5\n",
      "Name: binary_pathology, dtype: int64\n",
      "white       12\n",
      "black        1\n",
      "hispanic     0\n",
      "male         7\n",
      "female       6\n",
      "dtype: int64\n",
      "                  white  black  hispanic  male  female\n",
      "binary_pathology                                      \n",
      "0                     7      1         0     7       1\n",
      "1                     5      0         0     0       5\n",
      "SPLIT 4\n",
      "0    9\n",
      "1    4\n",
      "Name: binary_pathology, dtype: int64\n",
      "white       10\n",
      "black        3\n",
      "hispanic     0\n",
      "male         6\n",
      "female       7\n",
      "dtype: int64\n",
      "                  white  black  hispanic  male  female\n",
      "binary_pathology                                      \n",
      "0                     6      3         0     4       5\n",
      "1                     4      0         0     2       2\n",
      "SPLIT 5\n",
      "0    9\n",
      "1    4\n",
      "Name: binary_pathology, dtype: int64\n",
      "white       9\n",
      "black       3\n",
      "hispanic    1\n",
      "male        6\n",
      "female      7\n",
      "dtype: int64\n",
      "                  white  black  hispanic  male  female\n",
      "binary_pathology                                      \n",
      "0                     7      2         0     3       6\n",
      "1                     2      1         1     3       1\n"
     ]
    }
   ],
   "source": [
    "for split in range(1,6):\n",
    "    train_col = [col for col in train_test_splits.columns if str(split)+'_train' in col]\n",
    "    train_indices = list(train_test_splits[train_col[0]].dropna())\n",
    "    test_col = [col for col in train_test_splits.columns if str(split)+'_test' in col]\n",
    "    test_indices = list(train_test_splits[test_col[0]].dropna())\n",
    "\n",
    "    print(\"SPLIT \" + str(split))\n",
    "    \n",
    "    y_train, y_test = target[train_indices], target[test_indices]\n",
    "    X_train, X_test = df_labeled.iloc[train_indices], df_labeled.iloc[test_indices]\n",
    "    \n",
    "    print(y_test.value_counts())\n",
    "    print(X_test[['white', 'black', 'hispanic', 'male', 'female']].sum())\n",
    "    print(X_test.groupby(['binary_pathology'])[['white', 'black', 'hispanic', 'male', 'female']].sum())"
   ]
  },
  {
   "cell_type": "code",
   "execution_count": null,
   "metadata": {},
   "outputs": [],
   "source": []
  }
 ],
 "metadata": {
  "kernelspec": {
   "display_name": "Jainam_GPAA",
   "language": "python",
   "name": "gpaa"
  },
  "language_info": {
   "codemirror_mode": {
    "name": "ipython",
    "version": 3
   },
   "file_extension": ".py",
   "mimetype": "text/x-python",
   "name": "python",
   "nbconvert_exporter": "python",
   "pygments_lexer": "ipython3",
   "version": "3.8.2"
  }
 },
 "nbformat": 4,
 "nbformat_minor": 4
}
